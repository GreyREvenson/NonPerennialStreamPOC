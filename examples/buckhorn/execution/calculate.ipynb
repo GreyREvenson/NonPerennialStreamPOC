{
 "cells": [
  {
   "cell_type": "markdown",
   "id": "e2aeb6f5-bbf7-4bb0-b5f6-7bce4ed4ad65",
   "metadata": {},
   "source": [
    "###### Import the STReaM - Water Table Depth - TOPOgraph (strmwtdtopo) module"
   ]
  },
  {
   "cell_type": "code",
   "execution_count": 1,
   "id": "2602308d-9abc-4d8b-b301-056215b2bb49",
   "metadata": {},
   "outputs": [],
   "source": [
    "import os,sys\n",
    "src = r'..\\..\\..\\src'  # edit this path if necessary\n",
    "sys.path.append(os.path.abspath(src))\n",
    "import twtnamelist,twtdomain,twtwt,twttopo,twtsoils,twtstreams,twtcalc"
   ]
  },
  {
   "cell_type": "markdown",
   "id": "b0a05f94",
   "metadata": {},
   "source": [
    "###### Import hf_hydrodata and set credentials to enable download of parflow simulated water table depth - see https://hf-hydrodata.readthedocs.io/en/latest/getting_started.html#creating-a-hydrogen-api-account"
   ]
  },
  {
   "cell_type": "code",
   "execution_count": 2,
   "id": "c722a3ef",
   "metadata": {},
   "outputs": [],
   "source": [
    "import hf_hydrodata\n",
    "hf_hydrodata.register_api_pin(\"evenson.grey@epa.gov\", \"2234\") # edit these credentials if necessary"
   ]
  },
  {
   "cell_type": "markdown",
   "id": "c841912f",
   "metadata": {},
   "source": [
    "###### Initialize namelist object from namelist.yaml. Model inputs and options are specified within namelist.yaml"
   ]
  },
  {
   "cell_type": "code",
   "execution_count": 3,
   "id": "a10f8746",
   "metadata": {},
   "outputs": [],
   "source": [
    "fname_namelist = '../namelist.yaml' # edit this path if necessary\n",
    "namelist = twtnamelist.Namelist(filename=fname_namelist)"
   ]
  },
  {
   "cell_type": "markdown",
   "id": "d65107cb",
   "metadata": {},
   "source": [
    "###### Set the model domain. The 'huc' variable in namelist.yaml specifies the domain boundary. The specified huc must be at one of the following levels HUC-2, 4, 6, 8, 10, or 12."
   ]
  },
  {
   "cell_type": "code",
   "execution_count": 4,
   "id": "671285d2",
   "metadata": {},
   "outputs": [],
   "source": [
    "twtdomain.set_domain(namelist)"
   ]
  },
  {
   "cell_type": "markdown",
   "id": "00939588",
   "metadata": {},
   "source": [
    "###### Set the water table depth data. Currently only using ParFlow CONUS 1 simulations. Other options may be added later. The 'start_date' and 'end_date' variables in namelist.yaml specify the time period for which the data will be downloaded."
   ]
  },
  {
   "cell_type": "code",
   "execution_count": 5,
   "id": "ec34fa62",
   "metadata": {},
   "outputs": [],
   "source": [
    "twtwt.set_wtd(namelist)"
   ]
  },
  {
   "cell_type": "markdown",
   "id": "90fdee2a",
   "metadata": {},
   "source": [
    "###### Set the TWI values. The 'dem' variable in namelist.yaml specifies the DEM from which TWI values will be derived. If the 'dem' variable in namelist.yaml is not specified, the 10 m NED DEM will be automatically downloaded for the domain using the py3dep python module. TWI calculation and intermediate DEM processing steps are completed using the whitebox_workflows python module."
   ]
  },
  {
   "cell_type": "code",
   "execution_count": 6,
   "id": "95f23565",
   "metadata": {},
   "outputs": [],
   "source": [
    "twttopo.set_twi(namelist)"
   ]
  },
  {
   "cell_type": "markdown",
   "id": "dfdaac53",
   "metadata": {},
   "source": [
    "###### Set the soils data, including soil texture and transmissivity. Soil texture data will be automatically downloaded for the domain using the pysda python module. The 'pysda' variable in namelist.yaml must specify the path to the pysda module which is downloadable via github at https://github.com/ncss-tech/pysda"
   ]
  },
  {
   "cell_type": "code",
   "execution_count": 7,
   "id": "c4d830a6",
   "metadata": {},
   "outputs": [],
   "source": [
    "twtsoils.set_soils(namelist)"
   ]
  },
  {
   "cell_type": "markdown",
   "id": "a8f2fb39",
   "metadata": {},
   "source": [
    "###### Set the stream data for the domain. NHD HD stream lines will be automatically downloaded for the domain using pynhd python module"
   ]
  },
  {
   "cell_type": "code",
   "execution_count": 8,
   "id": "6d1521a7",
   "metadata": {},
   "outputs": [],
   "source": [
    "twtstreams.set_streams(namelist)"
   ]
  },
  {
   "cell_type": "markdown",
   "id": "50ff04bb",
   "metadata": {},
   "source": [
    "###### Execute the calculations"
   ]
  },
  {
   "cell_type": "code",
   "execution_count": 9,
   "id": "e8ad1540",
   "metadata": {},
   "outputs": [],
   "source": [
    "twtcalc.calc_parflow_inundation(namelist)"
   ]
  }
 ],
 "metadata": {
  "kernelspec": {
   "display_name": "Python 3",
   "language": "python",
   "name": "python3"
  },
  "language_info": {
   "codemirror_mode": {
    "name": "ipython",
    "version": 3
   },
   "file_extension": ".py",
   "mimetype": "text/x-python",
   "name": "python",
   "nbconvert_exporter": "python",
   "pygments_lexer": "ipython3",
   "version": "3.13.2"
  }
 },
 "nbformat": 4,
 "nbformat_minor": 5
}

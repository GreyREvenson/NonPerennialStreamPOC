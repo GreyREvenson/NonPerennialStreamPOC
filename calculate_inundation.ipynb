{
 "cells": [
  {
   "cell_type": "markdown",
   "id": "e2aeb6f5-bbf7-4bb0-b5f6-7bce4ed4ad65",
   "metadata": {},
   "source": [
    "###### Import libraries"
   ]
  },
  {
   "cell_type": "code",
   "execution_count": 1,
   "id": "2602308d-9abc-4d8b-b301-056215b2bb49",
   "metadata": {},
   "outputs": [],
   "source": [
    "import strmwtdtopo,hf_hydrodata"
   ]
  },
  {
   "cell_type": "markdown",
   "id": "b0a05f94",
   "metadata": {},
   "source": [
    "###### Set hf_hydrodata credentials to enable download of parflow simulated water table depth - see https://hf-hydrodata.readthedocs.io/en/latest/getting_started.html#creating-a-hydrogen-api-account"
   ]
  },
  {
   "cell_type": "code",
   "execution_count": 2,
   "id": "c722a3ef",
   "metadata": {},
   "outputs": [],
   "source": [
    "hf_hydrodata.register_api_pin(\"evenson.grey@epa.gov\", \"2234\")"
   ]
  },
  {
   "cell_type": "markdown",
   "id": "c841912f",
   "metadata": {},
   "source": [
    "###### Initialize namelist object from namelist.txt. Specify modle inputs and options in namelist.txt."
   ]
  },
  {
   "cell_type": "code",
   "execution_count": 3,
   "id": "a10f8746",
   "metadata": {},
   "outputs": [],
   "source": [
    "fname_namelist = './namelist.txt'\n",
    "namelist = strmwtdtopo.Namelist(filename=fname_namelist)"
   ]
  },
  {
   "cell_type": "markdown",
   "id": "d65107cb",
   "metadata": {},
   "source": [
    "###### Initialize the domain using the namelist object that you just created. The 'hucs' variable in namelist.txt specifies domain extent."
   ]
  },
  {
   "cell_type": "code",
   "execution_count": 4,
   "id": "671285d2",
   "metadata": {},
   "outputs": [],
   "source": [
    "domain = strmwtdtopo.Domain(namelist=namelist)"
   ]
  },
  {
   "cell_type": "markdown",
   "id": "da9abe18",
   "metadata": {},
   "source": [
    "###### Fetch and process water table depth (wtd) data if not already found in project directory. Parflow wtd is provided on 1km grid but will be reampled to a 2 m grid during this step. The 2 m resampling resolution is currently hardcoded. The model uses several resampling methods (nearest, bilinear, and cubic) for sake of comparison. Beware that this step may require a long time to complete and eat substantial harddrive space."
   ]
  },
  {
   "cell_type": "code",
   "execution_count": 5,
   "id": "ec54a06c",
   "metadata": {},
   "outputs": [],
   "source": [
    "domain.get_wtd_data(namelist=namelist)"
   ]
  },
  {
   "cell_type": "markdown",
   "id": "1bafe1e4",
   "metadata": {},
   "source": [
    "###### Create topographic wetness index and transmissivity data for the domain"
   ]
  },
  {
   "cell_type": "code",
   "execution_count": 6,
   "id": "d4c2ef2b",
   "metadata": {},
   "outputs": [],
   "source": [
    "domain.get_twi_and_transmissivity_data(namelist=namelist)"
   ]
  },
  {
   "cell_type": "markdown",
   "id": "e0040fa7",
   "metadata": {},
   "source": [
    "###### After getting the water table depth (wtd) data, the topographic wetness index (TWI) data, and transmissivity data, calculate inundation for every time step"
   ]
  },
  {
   "cell_type": "code",
   "execution_count": 7,
   "id": "1cc06621",
   "metadata": {},
   "outputs": [],
   "source": [
    "domain.calc_inundation(namelist=namelist)"
   ]
  }
 ],
 "metadata": {
  "kernelspec": {
   "display_name": "Python 3",
   "language": "python",
   "name": "python3"
  },
  "language_info": {
   "codemirror_mode": {
    "name": "ipython",
    "version": 3
   },
   "file_extension": ".py",
   "mimetype": "text/x-python",
   "name": "python",
   "nbconvert_exporter": "python",
   "pygments_lexer": "ipython3",
   "version": "3.13.2"
  }
 },
 "nbformat": 4,
 "nbformat_minor": 5
}
